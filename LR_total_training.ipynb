{
 "cells": [
  {
   "cell_type": "code",
   "execution_count": 6,
   "metadata": {},
   "outputs": [
    {
     "name": "stdout",
     "output_type": "stream",
     "text": [
      "Collecting matplotlib\n",
      "  Downloading matplotlib-3.8.3-cp312-cp312-win_amd64.whl.metadata (5.9 kB)\n",
      "Collecting contourpy>=1.0.1 (from matplotlib)\n",
      "  Downloading contourpy-1.2.0-cp312-cp312-win_amd64.whl.metadata (5.8 kB)\n",
      "Collecting cycler>=0.10 (from matplotlib)\n",
      "  Using cached cycler-0.12.1-py3-none-any.whl.metadata (3.8 kB)\n",
      "Collecting fonttools>=4.22.0 (from matplotlib)\n",
      "  Downloading fonttools-4.49.0-cp312-cp312-win_amd64.whl.metadata (162 kB)\n",
      "     ---------------------------------------- 0.0/162.3 kB ? eta -:--:--\n",
      "     ---------------------------------------- 0.0/162.3 kB ? eta -:--:--\n",
      "     --------- ----------------------------- 41.0/162.3 kB 1.9 MB/s eta 0:00:01\n",
      "     ----------------------------------- -- 153.6/162.3 kB 2.3 MB/s eta 0:00:01\n",
      "     -------------------------------------- 162.3/162.3 kB 2.4 MB/s eta 0:00:00\n",
      "Collecting kiwisolver>=1.3.1 (from matplotlib)\n",
      "  Downloading kiwisolver-1.4.5-cp312-cp312-win_amd64.whl.metadata (6.5 kB)\n",
      "Requirement already satisfied: numpy<2,>=1.21 in c:\\users\\aless\\miniconda3\\envs\\compgraphlib\\lib\\site-packages (from matplotlib) (1.26.4)\n",
      "Requirement already satisfied: packaging>=20.0 in c:\\users\\aless\\miniconda3\\envs\\compgraphlib\\lib\\site-packages (from matplotlib) (23.2)\n",
      "Collecting pillow>=8 (from matplotlib)\n",
      "  Downloading pillow-10.2.0-cp312-cp312-win_amd64.whl.metadata (9.9 kB)\n",
      "Collecting pyparsing>=2.3.1 (from matplotlib)\n",
      "  Downloading pyparsing-3.1.2-py3-none-any.whl.metadata (5.1 kB)\n",
      "Requirement already satisfied: python-dateutil>=2.7 in c:\\users\\aless\\miniconda3\\envs\\compgraphlib\\lib\\site-packages (from matplotlib) (2.8.2)\n",
      "Requirement already satisfied: six>=1.5 in c:\\users\\aless\\miniconda3\\envs\\compgraphlib\\lib\\site-packages (from python-dateutil>=2.7->matplotlib) (1.16.0)\n",
      "Downloading matplotlib-3.8.3-cp312-cp312-win_amd64.whl (7.6 MB)\n",
      "   ---------------------------------------- 0.0/7.6 MB ? eta -:--:--\n",
      "   - -------------------------------------- 0.4/7.6 MB 11.6 MB/s eta 0:00:01\n",
      "   -- ------------------------------------- 0.5/7.6 MB 5.6 MB/s eta 0:00:02\n",
      "   ---- ----------------------------------- 0.9/7.6 MB 7.1 MB/s eta 0:00:01\n",
      "   ---- ----------------------------------- 0.9/7.6 MB 4.8 MB/s eta 0:00:02\n",
      "   ------ --------------------------------- 1.3/7.6 MB 5.6 MB/s eta 0:00:02\n",
      "   ------ --------------------------------- 1.3/7.6 MB 5.6 MB/s eta 0:00:02\n",
      "   ------- -------------------------------- 1.5/7.6 MB 5.1 MB/s eta 0:00:02\n",
      "   --------- ------------------------------ 1.9/7.6 MB 5.6 MB/s eta 0:00:02\n",
      "   ---------- ----------------------------- 2.1/7.6 MB 5.1 MB/s eta 0:00:02\n",
      "   ------------ --------------------------- 2.4/7.6 MB 5.4 MB/s eta 0:00:01\n",
      "   ------------ --------------------------- 2.4/7.6 MB 5.0 MB/s eta 0:00:02\n",
      "   -------------- ------------------------- 2.7/7.6 MB 5.0 MB/s eta 0:00:01\n",
      "   -------------- ------------------------- 2.7/7.6 MB 5.0 MB/s eta 0:00:01\n",
      "   --------------- ------------------------ 3.0/7.6 MB 4.8 MB/s eta 0:00:01\n",
      "   ---------------- ----------------------- 3.1/7.6 MB 4.8 MB/s eta 0:00:01\n",
      "   ----------------- ---------------------- 3.4/7.6 MB 4.7 MB/s eta 0:00:01\n",
      "   ------------------- -------------------- 3.6/7.6 MB 4.8 MB/s eta 0:00:01\n",
      "   ------------------- -------------------- 3.8/7.6 MB 4.8 MB/s eta 0:00:01\n",
      "   --------------------- ------------------ 4.1/7.6 MB 4.8 MB/s eta 0:00:01\n",
      "   --------------------- ------------------ 4.1/7.6 MB 4.8 MB/s eta 0:00:01\n",
      "   ------------------------ --------------- 4.7/7.6 MB 5.0 MB/s eta 0:00:01\n",
      "   ------------------------- -------------- 4.8/7.6 MB 5.0 MB/s eta 0:00:01\n",
      "   --------------------------- ------------ 5.2/7.6 MB 5.1 MB/s eta 0:00:01\n",
      "   ---------------------------- ----------- 5.4/7.6 MB 5.0 MB/s eta 0:00:01\n",
      "   ------------------------------ --------- 5.9/7.6 MB 5.2 MB/s eta 0:00:01\n",
      "   ------------------------------- -------- 6.1/7.6 MB 5.3 MB/s eta 0:00:01\n",
      "   --------------------------------- ------ 6.4/7.6 MB 5.3 MB/s eta 0:00:01\n",
      "   ----------------------------------- ---- 6.8/7.6 MB 5.3 MB/s eta 0:00:01\n",
      "   ----------------------------------- ---- 6.9/7.6 MB 5.3 MB/s eta 0:00:01\n",
      "   -------------------------------------- - 7.3/7.6 MB 5.4 MB/s eta 0:00:01\n",
      "   -------------------------------------- - 7.4/7.6 MB 5.5 MB/s eta 0:00:01\n",
      "   ---------------------------------------  7.6/7.6 MB 5.4 MB/s eta 0:00:01\n",
      "   ---------------------------------------  7.6/7.6 MB 5.4 MB/s eta 0:00:01\n",
      "   ---------------------------------------- 7.6/7.6 MB 5.1 MB/s eta 0:00:00\n",
      "Downloading contourpy-1.2.0-cp312-cp312-win_amd64.whl (187 kB)\n",
      "   ---------------------------------------- 0.0/187.7 kB ? eta -:--:--\n",
      "   ---------------------------------------- 187.7/187.7 kB 5.7 MB/s eta 0:00:00\n",
      "Using cached cycler-0.12.1-py3-none-any.whl (8.3 kB)\n",
      "Downloading fonttools-4.49.0-cp312-cp312-win_amd64.whl (2.2 MB)\n",
      "   ---------------------------------------- 0.0/2.2 MB ? eta -:--:--\n",
      "   ----- ---------------------------------- 0.3/2.2 MB 16.6 MB/s eta 0:00:01\n",
      "   ---------- ----------------------------- 0.6/2.2 MB 8.8 MB/s eta 0:00:01\n",
      "   -------------- ------------------------- 0.8/2.2 MB 7.1 MB/s eta 0:00:01\n",
      "   -------------------- ------------------- 1.1/2.2 MB 7.2 MB/s eta 0:00:01\n",
      "   ---------------------- ----------------- 1.2/2.2 MB 5.9 MB/s eta 0:00:01\n",
      "   ------------------------------ --------- 1.6/2.2 MB 7.0 MB/s eta 0:00:01\n",
      "   ----------------------------------- ---- 1.9/2.2 MB 7.2 MB/s eta 0:00:01\n",
      "   ---------------------------------------  2.2/2.2 MB 6.6 MB/s eta 0:00:01\n",
      "   ---------------------------------------  2.2/2.2 MB 6.6 MB/s eta 0:00:01\n",
      "   ---------------------------------------- 2.2/2.2 MB 5.5 MB/s eta 0:00:00\n",
      "Downloading kiwisolver-1.4.5-cp312-cp312-win_amd64.whl (56 kB)\n",
      "   ---------------------------------------- 0.0/56.0 kB ? eta -:--:--\n",
      "   ---------------------------------------- 56.0/56.0 kB ? eta 0:00:00\n",
      "Downloading pillow-10.2.0-cp312-cp312-win_amd64.whl (2.6 MB)\n",
      "   ---------------------------------------- 0.0/2.6 MB ? eta -:--:--\n",
      "   ---- ----------------------------------- 0.3/2.6 MB 17.9 MB/s eta 0:00:01\n",
      "   -------- ------------------------------- 0.6/2.6 MB 7.2 MB/s eta 0:00:01\n",
      "   -------------- ------------------------- 0.9/2.6 MB 8.5 MB/s eta 0:00:01\n",
      "   ----------------- ---------------------- 1.1/2.6 MB 6.6 MB/s eta 0:00:01\n",
      "   ---------------------- ----------------- 1.5/2.6 MB 6.7 MB/s eta 0:00:01\n",
      "   ------------------------- -------------- 1.6/2.6 MB 6.2 MB/s eta 0:00:01\n",
      "   ------------------------------ --------- 2.0/2.6 MB 6.7 MB/s eta 0:00:01\n",
      "   -------------------------------- ------- 2.2/2.6 MB 6.6 MB/s eta 0:00:01\n",
      "   ---------------------------------- ----- 2.3/2.6 MB 5.8 MB/s eta 0:00:01\n",
      "   -------------------------------------- - 2.5/2.6 MB 6.0 MB/s eta 0:00:01\n",
      "   ---------------------------------------  2.6/2.6 MB 5.6 MB/s eta 0:00:01\n",
      "   ---------------------------------------- 2.6/2.6 MB 5.1 MB/s eta 0:00:00\n",
      "Downloading pyparsing-3.1.2-py3-none-any.whl (103 kB)\n",
      "   ---------------------------------------- 0.0/103.2 kB ? eta -:--:--\n",
      "   ----------------------- ---------------- 61.4/103.2 kB 3.4 MB/s eta 0:00:01\n",
      "   ---------------------------------------- 103.2/103.2 kB 1.5 MB/s eta 0:00:00\n",
      "Installing collected packages: pyparsing, pillow, kiwisolver, fonttools, cycler, contourpy, matplotlib\n",
      "Successfully installed contourpy-1.2.0 cycler-0.12.1 fonttools-4.49.0 kiwisolver-1.4.5 matplotlib-3.8.3 pillow-10.2.0 pyparsing-3.1.2\n"
     ]
    }
   ],
   "source": [
    "!pip install matplotlib"
   ]
  },
  {
   "cell_type": "code",
   "execution_count": 14,
   "metadata": {},
   "outputs": [],
   "source": [
    "import numpy as np\n",
    "import pandas as pd\n",
    "from sklearn.linear_model import LogisticRegression\n",
    "import networkx as nx\n",
    "import matplotlib.pyplot as plt\n",
    "from sklearn.model_selection import KFold\n",
    "import os\n",
    "from sklearn.metrics import accuracy_score\n",
    "import statistics"
   ]
  },
  {
   "cell_type": "code",
   "execution_count": 9,
   "metadata": {},
   "outputs": [],
   "source": [
    "# Getting data directory\n",
    "current_path = os.getcwd()\n",
    "data_path = os.path.join(current_path, \"data\")\n",
    "results_path = os.path.join(current_path, \"results\")\n",
    "X_path = os.path.join(data_path, \"MM_CT_d.csv\")\n",
    "y_path = os.path.join(data_path, \"surv.csv\")\n",
    "\n",
    "# Data loading\n",
    "X = pd.read_csv(X_path, index_col=\"patient_id\")\n",
    "y = pd.read_csv(y_path, index_col=\"MPC\")\n",
    "y = y.loc[:,'PFS_I_EVENT']\n"
   ]
  },
  {
   "cell_type": "code",
   "execution_count": 11,
   "metadata": {},
   "outputs": [
    {
     "name": "stdout",
     "output_type": "stream",
     "text": [
      "[0.7368421052631579, 0.6842105263157895, 0.631578947368421, 0.4444444444444444, 0.4444444444444444]\n"
     ]
    }
   ],
   "source": [
    "# Cross-Validation splits\n",
    "kfcv = KFold(n_splits=5, shuffle=True, random_state=15)\n",
    "\n",
    "# Scores list\n",
    "scores = []\n",
    "\n",
    "# Cross validation for LR training and evaluation with complete dataset\n",
    "for train_idx, test_idx in kfcv.split(X, y):\n",
    "\n",
    "    X_train, X_test, y_train, y_test = X.iloc[train_idx], X.iloc[test_idx], y.iloc[train_idx], y.iloc[test_idx]\n",
    "\n",
    "    # Create a logistic regression model with LASSO regularization\n",
    "    model = LogisticRegression(penalty='l1', solver='liblinear', C=1.0)\n",
    "\n",
    "    # Fit the model to your training data\n",
    "    model.fit(X_train, y_train)\n",
    "\n",
    "    # Make predictions\n",
    "    scores.append(accuracy_score(y_test, model.predict(X_test)))\n",
    "\n",
    "print(scores)\n"
   ]
  },
  {
   "cell_type": "code",
   "execution_count": 19,
   "metadata": {},
   "outputs": [
    {
     "name": "stdout",
     "output_type": "stream",
     "text": [
      "Complete model results:  0.59 ± 0.06\n"
     ]
    }
   ],
   "source": [
    "mean = statistics.mean(scores)\n",
    "std = statistics.stdev(scores)/np.sqrt(5)\n",
    "print(f'Complete model results:  {mean:.2f} \\u00B1 {std:.2f}')"
   ]
  },
  {
   "cell_type": "code",
   "execution_count": null,
   "metadata": {},
   "outputs": [],
   "source": []
  }
 ],
 "metadata": {
  "kernelspec": {
   "display_name": "CompGraphLib",
   "language": "python",
   "name": "python3"
  },
  "language_info": {
   "codemirror_mode": {
    "name": "ipython",
    "version": 3
   },
   "file_extension": ".py",
   "mimetype": "text/x-python",
   "name": "python",
   "nbconvert_exporter": "python",
   "pygments_lexer": "ipython3",
   "version": "3.12.1"
  }
 },
 "nbformat": 4,
 "nbformat_minor": 2
}
